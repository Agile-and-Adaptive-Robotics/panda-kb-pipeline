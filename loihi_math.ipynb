{
 "cells": [
  {
   "cell_type": "markdown",
   "metadata": {},
   "source": [
    "# Mathematical Framework of Loihi\n",
    "The purpose of this notebook is display the mathematical framework of the Loihi Chip and to simplify the parameter tuning of future compartments and networks\n",
    "\n",
    "## Neural Model \n",
    "Loihi uses the leaky-integrate-and-fire model which has two internal state variables: \n",
    "### 1) $u_i(t)$: the synaptic response current\n",
    "$$\n",
    "u_i(t) = u_i(t - 1) \\cdot (2^{12} - \\delta_i^{(u)}) \\cdot 2^{-12} + 2^{6+wgtExp} \\sum_jw_{ij}\\cdot s_j(t)\n",
    "$$\n",
    "- $i$ indicates the index of the post-syntapic neuron (in Loihi neuron are represented as compartments)\n",
    "- $j$ indicates the index of the pre-syntapic neuron\n",
    "- $\\delta_i^{(u)}$ represents the current decay (Default = 4096)\n",
    "$$\n",
    "compartmentCurrentDecay = (1/\\tau)*2^{12} \n",
    "$$\n",
    "$$\n",
    "\\tau = e^{(-t/\\tau)}\n",
    "$$\n",
    "- $u_i(t)$ is the compartment's state current at timestep $t$. The compartment current integrates incoming weighted spikes from the dendritic accumulators and possibly inputs from other compartments but decays exponentially otherwise\n",
    "### 2) $v_t(t)$: the membrane voltage potential\n",
    "$$\n",
    "v_i(t) = v_i(t-1) \\cdot (2^{12} - VoltageDecay) * 2^{-12} + u_i(t) + (biasMant*2^{biasExp})\n",
    "$$\n",
    "- Voltage decay is defined by (default = 0):\n",
    "$$\n",
    "VoltageDecay = (1/\\tau) \\cdot 2^{12}\n",
    "$$\n",
    "- the compartment voltage $(v_i(t))$ integrates the compartment current $(u_i(t))$, the compartment bias, and possibly inputs from other compartments\n",
    "- the firing rate comes from setting the voltage threshold (default 6400): \n",
    "$$\n",
    "vTh = vthMant * 2^6\n",
    "$$\n",
    "\n",
    "\n"
   ]
  },
  {
   "cell_type": "code",
   "execution_count": 3,
   "metadata": {},
   "outputs": [],
   "source": [
    "def get_vth(vthMant):\n",
    "    return vthMant * (2 **6)\n",
    "\n",
    "def get_vthMant(vTh):\n",
    "    return vTh /(2 ** 6)\n",
    "\n",
    "def get_curr_decay_tau(currentDecay):\n",
    "    return (2 ** 12) / currentDecay\n",
    "\n",
    "def get_curr_decay(tau):\n",
    "    return (1 / tau) * (2 ** 12)\n",
    "\n",
    "def act_voltage_decay(voltageDecay):\n",
    "    return ((2**12) - voltageDecay) / (2**12)\n",
    "\n",
    "def get_voltage_decay(tau):\n",
    "    return (1 / tau) * (2 ** 12)\n",
    "\n",
    "\n",
    "\n"
   ]
  },
  {
   "cell_type": "markdown",
   "metadata": {},
   "source": [
    "## Synaptic Connection Model\n",
    "- Weight $(w)$ can take on a range of values of [-256, 256]\n",
    "- The below formulas break down how synatpic weights are accumulated into the compartment current\n",
    "$$\n",
    "numLsbBits = 8 - (numWeightbits - IS_MIXED) \\\\\n",
    "actWeight = (weight >> numLsbBits) << numLsbBits\n",
    "$$\n",
    "- `numWeightBits` specifies the number of bits and therefore the precision of a synaptic `weight`. It can take values of `0,1,2,3,4,5,6,7,8`\n",
    "- Before weight is accumulated to a current value, an additional exponential scalling is performed: \n",
    "$$\n",
    "2^{6 + wgtExp}\n",
    "$$\n",
    "- In summary the weight component that gets integrated to current is as follows (assuming 8 bit resolution)\n",
    "$$\n",
    "w_i = w * 2 ^{6 + wgtExp}\n",
    "$$"
   ]
  },
  {
   "cell_type": "code",
   "execution_count": 4,
   "metadata": {},
   "outputs": [
    {
     "name": "stdout",
     "output_type": "stream",
     "text": [
      "Actual Weight: 12800\n"
     ]
    }
   ],
   "source": [
    "def calculate_actual_weight(weight, num_weight_bits, wgt_exp, is_mixed):\n",
    "    \"\"\"\n",
    "    Calculate the actual weight value that gets integrated into the compartment current.\n",
    "    \n",
    "    Parameters:\n",
    "    weight (int): The synaptic weight in the range of [-256, 256].\n",
    "    num_weight_bits (int): The number of bits specifying the precision of the synaptic weight. Can take values from 0 to 8.\n",
    "    wgt_exp (int): The weight exponent used for additional exponential scaling.\n",
    "    is_mixed (int): Indicator if the mixed precision mode is used.\n",
    "    \n",
    "    Returns:\n",
    "    float: The actual weight value that gets integrated into the compartment current.\n",
    "    \"\"\"\n",
    "    # Calculate the number of least significant bits\n",
    "    num_lsb_bits = 8 - (num_weight_bits - is_mixed)\n",
    "    \n",
    "    # Calculate the actual weight by shifting\n",
    "    act_weight = (weight >> num_lsb_bits) << num_lsb_bits\n",
    "    \n",
    "    # Calculate the weight component that gets integrated into the current\n",
    "    weight_component = act_weight * (2 ** (6 + wgt_exp))\n",
    "    \n",
    "    return weight_component\n",
    "\n",
    "# Example usage\n",
    "weight = 200\n",
    "num_weight_bits = 8\n",
    "wgt_exp = 0\n",
    "is_mixed = 0\n",
    "\n",
    "actual_weight = calculate_actual_weight(weight, num_weight_bits, wgt_exp, is_mixed)\n",
    "print(\"Actual Weight:\", actual_weight)\n"
   ]
  },
  {
   "cell_type": "code",
   "execution_count": 1,
   "metadata": {},
   "outputs": [
    {
     "data": {
      "application/vnd.jupyter.widget-view+json": {
       "model_id": "b184a153c62c4c8ebebdae2b45bc3cdd",
       "version_major": 2,
       "version_minor": 0
      },
      "text/plain": [
       "HTML(value='<b> Calculate Loihi Values and Tune Parameters </b>')"
      ]
     },
     "metadata": {},
     "output_type": "display_data"
    },
    {
     "data": {
      "application/vnd.jupyter.widget-view+json": {
       "model_id": "0b2c51ff35ea4c79b16524011cd49968",
       "version_major": 2,
       "version_minor": 0
      },
      "text/plain": [
       "IntSlider(value=1, description='VthMant:', min=1)"
      ]
     },
     "metadata": {},
     "output_type": "display_data"
    },
    {
     "data": {
      "application/vnd.jupyter.widget-view+json": {
       "model_id": "0cd06dea6dfa4f9382e9cb2b7a6978e2",
       "version_major": 2,
       "version_minor": 0
      },
      "text/plain": [
       "Text(value='Vth = 64 mV', description='Voltage:', disabled=True)"
      ]
     },
     "metadata": {},
     "output_type": "display_data"
    },
    {
     "data": {
      "application/vnd.jupyter.widget-view+json": {
       "model_id": "5c104d3f78484b9b917add4fd0548dab",
       "version_major": 2,
       "version_minor": 0
      },
      "text/plain": [
       "IntSlider(value=0, description='Weight:', max=256, min=-256)"
      ]
     },
     "metadata": {},
     "output_type": "display_data"
    },
    {
     "data": {
      "application/vnd.jupyter.widget-view+json": {
       "model_id": "8fe3017260d54de8aaf0b2726592d4d9",
       "version_major": 2,
       "version_minor": 0
      },
      "text/plain": [
       "Text(value='Weight = 0', description='Weight Component:', disabled=True)"
      ]
     },
     "metadata": {},
     "output_type": "display_data"
    },
    {
     "data": {
      "application/vnd.jupyter.widget-view+json": {
       "model_id": "15b024b313de4465b47d0a32eb3f3407",
       "version_major": 2,
       "version_minor": 0
      },
      "text/plain": [
       "Button(button_style='success', description='Calculate Values', icon='check', style=ButtonStyle(), tooltip='Des…"
      ]
     },
     "metadata": {},
     "output_type": "display_data"
    },
    {
     "data": {
      "application/vnd.jupyter.widget-view+json": {
       "model_id": "ad3e64bc74d64be4883af362f8c481e0",
       "version_major": 2,
       "version_minor": 0
      },
      "text/plain": [
       "Output(layout=Layout(border='1px solid black'))"
      ]
     },
     "metadata": {},
     "output_type": "display_data"
    }
   ],
   "source": [
    "from utils.loihi_math_utils import WidgetApplication\n",
    "\n",
    "myApp = WidgetApplication()\n",
    "myApp.display()"
   ]
  }
 ],
 "metadata": {
  "kernelspec": {
   "display_name": "loihi",
   "language": "python",
   "name": "python3"
  },
  "language_info": {
   "codemirror_mode": {
    "name": "ipython",
    "version": 3
   },
   "file_extension": ".py",
   "mimetype": "text/x-python",
   "name": "python",
   "nbconvert_exporter": "python",
   "pygments_lexer": "ipython3",
   "version": "3.10.9"
  }
 },
 "nbformat": 4,
 "nbformat_minor": 2
}
