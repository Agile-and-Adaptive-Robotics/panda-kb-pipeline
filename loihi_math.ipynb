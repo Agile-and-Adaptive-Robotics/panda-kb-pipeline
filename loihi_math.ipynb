{
 "cells": [
  {
   "cell_type": "markdown",
   "metadata": {},
   "source": [
    "# Mathematical Framework of Loihi\n",
    "The purpose of this notebook is display the mathematical framework of the Loihi Chip and to simplify the parameter tuning of future compartments and networks\n",
    "\n",
    "## Neural Model \n",
    "Loihi uses the leaky-integrate-and-fire model which has two internal state variables: \n",
    "### 1) $u_i(t)$: the synaptic response current\n",
    "$$\n",
    "u_i(t) = u_i(t - 1) \\cdot (2^{12} - \\delta_i^{(u)}) \\cdot 2^{-12} + 2^{6+wgtExp} \\sum_jw_{ij}\\cdot s_j(t)\n",
    "$$\n",
    "- $i$ indicates the index of the post-syntapic neuron (in Loihi neuron are represented as compartments)\n",
    "- $j$ indicates the index of the pre-syntapic neuron\n",
    "- $\\delta_i^{(u)}$ represents the current decay (Default = 4096)\n",
    "$$\n",
    "compartmentCurrentDecay = (1/\\tau)*2^{12} \n",
    "$$\n",
    "$$\n",
    "\\tau = e^{(-t/\\tau)}\n",
    "$$\n",
    "- $u_i(t)$ is the compartment's state current at timestep $t$. The compartment current integrates incoming weighted spikes from the dendritic accumulators and possibly inputs from other compartments but decays exponentially otherwise\n",
    "### 2) $v_t(t)$: the membrane voltage potential\n",
    "$$\n",
    "v_i(t) = v_i(t-1) \\cdot (2^{12} - VoltageDecay) * 2^{-12} + u_i(t) + (biasMant*2^{biasExp})\n",
    "$$\n",
    "- Voltage decay is defined by (default = 0):\n",
    "$$\n",
    "VoltageDecay = (1/\\tau) \\cdot 2^{12}\n",
    "$$\n",
    "- the compartment voltage $(v_i(t))$ integrates the compartment current $(u_i(t))$, the compartment bias, and possibly inputs from other compartments\n",
    "- the firing rate comes from setting the voltage threshold (default 6400): \n",
    "$$\n",
    "vTh = vthMant * 2^6\n",
    "$$\n",
    "\n",
    "\n"
   ]
  },
  {
   "cell_type": "code",
   "execution_count": 24,
   "metadata": {},
   "outputs": [],
   "source": [
    "def get_vth(vthMant):\n",
    "    return vthMant * (2 **6)\n",
    "\n",
    "def get_vthMant(vTh):\n",
    "    return vTh /(2 ** 6)\n",
    "\n",
    "def get_curr_decay_tau(currentDecay):\n",
    "    return (2 ** 12) / currentDecay\n",
    "\n",
    "def get_curr_decay(tau):\n",
    "    return (1 / tau) * (2 ** 12)\n",
    "\n",
    "def act_voltage_decay(voltageDecay):\n",
    "    return ((2**12) - voltageDecay) / (2**12)\n",
    "\n",
    "def get_voltage_decay(tau):\n",
    "    return (1 / tau) * (2 ** 12)\n",
    "\n",
    "\n",
    "\n"
   ]
  },
  {
   "cell_type": "markdown",
   "metadata": {},
   "source": [
    "## Synaptic Connection Model\n",
    "- Weight $(w)$ can take on a range of values of [-256, 256]\n",
    "- The below formulas break down how synatpic weights are accumulated into the compartment current\n",
    "$$\n",
    "numLsbBits = 8 - (numWeightbits - IS_MIXED) \\\\\n",
    "actWeight = (weight >> numLsbBits) << numLsbBits\n",
    "$$\n",
    "- `numWeightBits` specifies the number of bits and therefore the precision of a synaptic `weight`. It can take values of `0,1,2,3,4,5,6,7,8`\n",
    "- Before weight is accumulated to a current value, an additional exponential scalling is performed: \n",
    "$$\n",
    "2^{6 + wgtExp}\n",
    "$$\n",
    "- In summary the weight component that gets integrated to current is as follows (assuming 8 bit resolution)\n",
    "$$\n",
    "w_i = w * 2 ^{6 + wgtExp}\n",
    "$$"
   ]
  },
  {
   "cell_type": "code",
   "execution_count": 25,
   "metadata": {},
   "outputs": [
    {
     "name": "stdout",
     "output_type": "stream",
     "text": [
      "Actual Weight: 640\n"
     ]
    }
   ],
   "source": [
    "def calculate_actual_weight(weight, num_weight_bits, wgt_exp, is_mixed):\n",
    "    \"\"\"\n",
    "    Calculate the actual weight value that gets integrated into the compartment current.\n",
    "    \n",
    "    Parameters:\n",
    "    weight (int): The synaptic weight in the range of [-256, 256].\n",
    "    num_weight_bits (int): The number of bits specifying the precision of the synaptic weight. Can take values from 0 to 8.\n",
    "    wgt_exp (int): The weight exponent used for additional exponential scaling.\n",
    "    is_mixed (int): Indicator if the mixed precision mode is used.\n",
    "    \n",
    "    Returns:\n",
    "    float: The actual weight value that gets integrated into the compartment current.\n",
    "    \"\"\"\n",
    "    # Calculate the number of least significant bits\n",
    "    num_lsb_bits = 8 - (num_weight_bits - is_mixed)\n",
    "    \n",
    "    # Calculate the actual weight by shifting\n",
    "    act_weight = (weight >> num_lsb_bits) << num_lsb_bits\n",
    "    \n",
    "    # Calculate the weight component that gets integrated into the current\n",
    "    weight_component = act_weight * (2 ** (6 + wgt_exp))\n",
    "    \n",
    "    return weight_component\n",
    "\n",
    "# Example usage\n",
    "weight = 10\n",
    "num_weight_bits = 8\n",
    "wgt_exp = 0\n",
    "is_mixed = 0\n",
    "\n",
    "actual_weight = calculate_actual_weight(weight, num_weight_bits, wgt_exp, is_mixed)\n",
    "print(\"Actual Weight:\", actual_weight)\n"
   ]
  },
  {
   "cell_type": "code",
   "execution_count": 26,
   "metadata": {},
   "outputs": [
    {
     "name": "stdout",
     "output_type": "stream",
     "text": [
      "0.75\n",
      "6400\n",
      "1.28\n",
      "819.2\n"
     ]
    }
   ],
   "source": [
    "actVoltDecay = act_voltage_decay(int(1 / 4 * 2 ** 12))\n",
    "print(actVoltDecay)\n",
    "\n",
    "voltageTh = get_vth(100)\n",
    "print(voltageTh)\n",
    "\n",
    "tau = get_curr_decay_tau(int(6400 / 2))\n",
    "print(tau)\n",
    "\n",
    "currDecay = get_curr_decay(5)\n",
    "print(currDecay)"
   ]
  },
  {
   "cell_type": "code",
   "execution_count": 27,
   "metadata": {},
   "outputs": [
    {
     "data": {
      "application/vnd.jupyter.widget-view+json": {
       "model_id": "5e9e560214bc4b87b553a7ef16ad6b58",
       "version_major": 2,
       "version_minor": 0
      },
      "text/plain": [
       "VBox(children=(IntText(value=100, description='vthMant:'), Output()))"
      ]
     },
     "metadata": {},
     "output_type": "display_data"
    },
    {
     "data": {
      "application/vnd.jupyter.widget-view+json": {
       "model_id": "43c7642332fd4cf8ba085924bbcc70a1",
       "version_major": 2,
       "version_minor": 0
      },
      "text/plain": [
       "VBox(children=(FloatText(value=6400.0, description='vTh:'), Output()))"
      ]
     },
     "metadata": {},
     "output_type": "display_data"
    },
    {
     "data": {
      "application/vnd.jupyter.widget-view+json": {
       "model_id": "50425cffc2a44d2287bf58ad2a844a16",
       "version_major": 2,
       "version_minor": 0
      },
      "text/plain": [
       "VBox(children=(IntText(value=4096, description='Current Decay:'), Output()))"
      ]
     },
     "metadata": {},
     "output_type": "display_data"
    },
    {
     "data": {
      "application/vnd.jupyter.widget-view+json": {
       "model_id": "43a8eef206864155856b3c464d9bd71d",
       "version_major": 2,
       "version_minor": 0
      },
      "text/plain": [
       "VBox(children=(FloatText(value=10.0, description='Tau:'), Output(), Output()))"
      ]
     },
     "metadata": {},
     "output_type": "display_data"
    },
    {
     "data": {
      "application/vnd.jupyter.widget-view+json": {
       "model_id": "803c97b7ec8246eb83f90ba669ebb5a4",
       "version_major": 2,
       "version_minor": 0
      },
      "text/plain": [
       "VBox(children=(IntText(value=0, description='Voltage Decay:'), Output()))"
      ]
     },
     "metadata": {},
     "output_type": "display_data"
    },
    {
     "data": {
      "application/vnd.jupyter.widget-view+json": {
       "model_id": "34d3c37b6cc445a0a07f29c52b7b1755",
       "version_major": 2,
       "version_minor": 0
      },
      "text/plain": [
       "VBox(children=(IntText(value=10, description='Weight:'), IntText(value=8, description='Num Weight Bits:'), Int…"
      ]
     },
     "metadata": {},
     "output_type": "display_data"
    }
   ],
   "source": [
    "import ipywidgets as widgets\n",
    "from IPython.display import display\n",
    "\n",
    "# Define functions for calculations\n",
    "def get_vth(vthMant):\n",
    "    return vthMant * (2 ** 6)\n",
    "\n",
    "def get_vthMant(vTh):\n",
    "    return vTh / (2 ** 6)\n",
    "\n",
    "def get_curr_decay_tau(currentDecay):\n",
    "    return (2 ** 12) / currentDecay\n",
    "\n",
    "def get_curr_decay(tau):\n",
    "    return (1 / tau) * (2 ** 12)\n",
    "\n",
    "def act_voltage_decay(voltageDecay):\n",
    "    return ((2**12) - voltageDecay) / (2**12)\n",
    "\n",
    "def get_voltage_decay(tau):\n",
    "    return (1 / tau) * (2 ** 12)\n",
    "\n",
    "def calculate_actual_weight(weight, num_weight_bits, wgt_exp, is_mixed):\n",
    "    num_lsb_bits = 8 - (num_weight_bits - is_mixed)\n",
    "    act_weight = (weight >> num_lsb_bits) << num_lsb_bits\n",
    "    weight_component = act_weight * (2 ** (6 + wgt_exp))\n",
    "    return weight_component\n",
    "\n",
    "# Create widgets for inputs\n",
    "vthMant_input = widgets.IntText(value=100, description='vthMant:')\n",
    "vTh_input = widgets.FloatText(value=6400, description='vTh:')\n",
    "currentDecay_input = widgets.IntText(value=4096, description='Current Decay:')\n",
    "tau_input = widgets.FloatText(value=10, description='Tau:')\n",
    "voltageDecay_input = widgets.IntText(value=0, description='Voltage Decay:')\n",
    "weight_input = widgets.IntText(value=10, description='Weight:')\n",
    "num_weight_bits_input = widgets.IntText(value=8, description='Num Weight Bits:')\n",
    "wgt_exp_input = widgets.IntText(value=0, description='Weight Exp:')\n",
    "is_mixed_input = widgets.IntText(value=0, description='Is Mixed:')\n",
    "\n",
    "# Create output areas\n",
    "output_vth = widgets.Output()\n",
    "output_vthMant = widgets.Output()\n",
    "output_curr_decay_tau = widgets.Output()\n",
    "output_curr_decay = widgets.Output()\n",
    "output_voltage_decay = widgets.Output()\n",
    "output_act_voltage_decay = widgets.Output()\n",
    "output_weight = widgets.Output()\n",
    "\n",
    "# Define update functions\n",
    "def update_vth(change):\n",
    "    with output_vth:\n",
    "        output_vth.clear_output()\n",
    "        print(get_vth(vthMant_input.value))\n",
    "\n",
    "def update_vthMant(change):\n",
    "    with output_vthMant:\n",
    "        output_vthMant.clear_output()\n",
    "        print(get_vthMant(vTh_input.value))\n",
    "\n",
    "def update_curr_decay_tau(change):\n",
    "    with output_curr_decay_tau:\n",
    "        output_curr_decay_tau.clear_output()\n",
    "        print(get_curr_decay_tau(currentDecay_input.value))\n",
    "\n",
    "def update_curr_decay(change):\n",
    "    with output_curr_decay:\n",
    "        output_curr_decay.clear_output()\n",
    "        print(get_curr_decay(tau_input.value))\n",
    "\n",
    "def update_voltage_decay(change):\n",
    "    with output_voltage_decay:\n",
    "        output_voltage_decay.clear_output()\n",
    "        print(get_voltage_decay(tau_input.value))\n",
    "\n",
    "def update_act_voltage_decay(change):\n",
    "    with output_act_voltage_decay:\n",
    "        output_act_voltage_decay.clear_output()\n",
    "        print(act_voltage_decay(voltageDecay_input.value))\n",
    "\n",
    "def update_weight(change):\n",
    "    with output_weight:\n",
    "        output_weight.clear_output()\n",
    "        print(calculate_actual_weight(weight_input.value, num_weight_bits_input.value, wgt_exp_input.value, is_mixed_input.value))\n",
    "\n",
    "# Attach update functions to input widgets\n",
    "vthMant_input.observe(update_vth, names='value')\n",
    "vTh_input.observe(update_vthMant, names='value')\n",
    "currentDecay_input.observe(update_curr_decay_tau, names='value')\n",
    "tau_input.observe(update_curr_decay, names='value')\n",
    "tau_input.observe(update_voltage_decay, names='value')\n",
    "voltageDecay_input.observe(update_act_voltage_decay, names='value')\n",
    "weight_input.observe(update_weight, names='value')\n",
    "num_weight_bits_input.observe(update_weight, names='value')\n",
    "wgt_exp_input.observe(update_weight, names='value')\n",
    "is_mixed_input.observe(update_weight, names='value')\n",
    "\n",
    "# Display the widgets and outputs\n",
    "display(widgets.VBox([vthMant_input, output_vth]))\n",
    "display(widgets.VBox([vTh_input, output_vthMant]))\n",
    "display(widgets.VBox([currentDecay_input, output_curr_decay_tau]))\n",
    "display(widgets.VBox([tau_input, output_curr_decay, output_voltage_decay]))\n",
    "display(widgets.VBox([voltageDecay_input, output_act_voltage_decay]))\n",
    "display(widgets.VBox([weight_input, num_weight_bits_input, wgt_exp_input, is_mixed_input, output_weight]))\n"
   ]
  }
 ],
 "metadata": {
  "kernelspec": {
   "display_name": "loihi",
   "language": "python",
   "name": "python3"
  },
  "language_info": {
   "codemirror_mode": {
    "name": "ipython",
    "version": 3
   },
   "file_extension": ".py",
   "mimetype": "text/x-python",
   "name": "python",
   "nbconvert_exporter": "python",
   "pygments_lexer": "ipython3",
   "version": "3.10.9"
  }
 },
 "nbformat": 4,
 "nbformat_minor": 2
}
