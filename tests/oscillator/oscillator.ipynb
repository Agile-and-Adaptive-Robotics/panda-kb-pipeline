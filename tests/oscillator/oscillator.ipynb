{
 "cells": [
  {
   "cell_type": "code",
   "execution_count": null,
   "metadata": {},
   "outputs": [],
   "source": [
    "class OscGenProcess: \n",
    "    def __init__(self, amplitude, frequency, phase_shift, duration):\n",
    "        self.amplitude = amplitude\n",
    "        self.frequency = frequency\n",
    "        self.phi = phi\n",
    "        self.duration = duration\n",
    "        self.times = []\n",
    "        self.outputs = []\n",
    "\n",
    "    def generate_sine_wave(self):\n",
    "        # Calculate the period and interval between samples\n",
    "        period = 1 / self.frequency\n",
    "        interval = period / 10\n",
    "\n",
    "        # Initialize timing\n",
    "        start_time = time.time()\n",
    "        end_time = start_time + self.duration\n",
    "\n",
    "        # Real-time oscillator loop\n",
    "        while time.time() < end_time:\n",
    "            current_time = time.time() - start_time\n",
    "            omega = 2 * np.pi * self.frequency\n",
    "            y = self.amplitude * np.sin(omega * current_time + self.phase_shift)\n",
    "            \n",
    "            # Append current time and output to the lists, converting time to milliseconds\n",
    "            self.times.append(current_time * 1000)\n",
    "            self.outputs.append(y)\n",
    "            \n",
    "            # Sleep until the next sample\n",
    "            next_sample_time = time.time() + interval\n",
    "            while time.time() < next_sample_time:\n",
    "                pass\n",
    "\n",
    "    def plot_results(self):\n",
    "        # Plotting the results\n",
    "        plt.figure(figsize=(25, 5))\n",
    "        plt.plot(self.times, self.outputs, label='Sine Wave')\n",
    "        plt.title('Sine Wave Output Over Time')\n",
    "        plt.xlabel('Time (milliseconds)')\n",
    "        plt.ylabel('Amplitude')\n",
    "        plt.grid(True)\n",
    "        plt.legend()\n",
    "        plt.show()    \n",
    "\n",
    "'''\n",
    "Usage: \n",
    "oscillator = OscGenProcess(amplitude=50, frequency=500, phase_shift=0, duration=0.1)\n",
    "oscillator.generate_sine_wave()\n",
    "oscillator.plot_results()\n",
    "print(\"Finished generating the sine wave.\")\n",
    "'''"
   ]
  }
 ],
 "metadata": {
  "kernelspec": {
   "display_name": "loihi",
   "language": "python",
   "name": "python3"
  },
  "language_info": {
   "codemirror_mode": {
    "name": "ipython",
    "version": 3
   },
   "file_extension": ".py",
   "mimetype": "text/x-python",
   "name": "python",
   "nbconvert_exporter": "python",
   "pygments_lexer": "ipython3",
   "version": "3.10.9"
  }
 },
 "nbformat": 4,
 "nbformat_minor": 2
}
