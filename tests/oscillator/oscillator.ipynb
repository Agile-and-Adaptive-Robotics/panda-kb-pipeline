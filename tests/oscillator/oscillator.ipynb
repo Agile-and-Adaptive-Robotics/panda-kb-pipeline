{
 "cells": [
  {
   "cell_type": "code",
   "execution_count": null,
   "metadata": {},
   "outputs": [],
   "source": [
    "%matplotlib widget\n",
    "import pandas as pd\n",
    "import matplotlib.pyplot as plt\n",
    "\n",
    "# Load data from CSV file\n",
    "data = pd.read_csv('OscGenProcess.csv')\n",
    "\n",
    "# Plot the data\n",
    "plt.figure(figsize=(20, 5))\n",
    "plt.plot(data['Time (ms)'], data['Frequency (Hz)'], label='Frequency', color='blue')\n",
    "# Corrected column name for the scatter plot\n",
    "plt.scatter(data['Time (ms)'][data['Spike Sent'] == 1], data['Frequency (Hz)'][data['Spike Sent'] == 1], color='red', label='Spike Sent')\n",
    "\n",
    "# Labeling the plot\n",
    "plt.title('Current Frequency over Time')\n",
    "plt.xlabel('Time (ms)')\n",
    "plt.ylabel('Frequency (Hz)')\n",
    "plt.legend()\n",
    "plt.grid(True)\n",
    "plt.show()\n"
   ]
  },
  {
   "cell_type": "markdown",
   "metadata": {},
   "source": [
    "Below are the script to parse the C++ code found in `SineWaveGenerator.cpp`"
   ]
  },
  {
   "cell_type": "code",
   "execution_count": null,
   "metadata": {},
   "outputs": [],
   "source": [
    "%matplotlib widget\n",
    "import pandas as pd\n",
    "import matplotlib.pyplot as plt\n",
    "import numpy as np  # Ensure numpy is imported\n",
    "\n",
    "# Load the data from CSV\n",
    "data = pd.read_csv('sine_wave_data.csv')\n",
    "\n",
    "# Plotting the sine wave\n",
    "plt.figure(figsize=(20, 5))\n",
    "plt.plot(data['Time (ms)'], data['Frequency (Hz)'], label='Sine Wave', color='blue')\n",
    "plt.scatter(data['Time (ms)'][data['Spike Sent'] == 1], data['Frequency (Hz)'][data['Spike Sent'] == 1], color = 'red', label = 'Spike Sent')\n",
    "\n",
    "# Highlighting spikes\n",
    "spike_data = data[data['SpikeSent'] == 1]\n",
    "plt.scatter(spike_data['Time'], spike_data['Value'], color='red', label='Spikes', zorder=5)\n",
    "\n",
    "# Calculate Δt between spikes and annotate on the plot with lines\n",
    "if not spike_data.empty:\n",
    "    spike_times = spike_data['Time'].values\n",
    "    delta_ts = np.diff(spike_times)  # numpy diff to find the time difference between consecutive spikes\n",
    "\n",
    "    # Annotate Δt values between spikes on the plot\n",
    "    for i in range(len(delta_ts)):\n",
    "        # Position of the annotation in the middle of two spikes\n",
    "        x_pos = (spike_times[i] + spike_times[i + 1]) / 2\n",
    "        y_pos = max(data['Value']) * 0.95  # Positioning the text at the top of the plot\n",
    "        plt.annotate(f'{delta_ts[i]:.4f}s', (x_pos, y_pos), textcoords=\"offset points\", xytext=(0,10), ha='center', color='green')\n",
    "\n",
    "        # Draw a vertical line for each spike and a horizontal line to show the interval\n",
    "        plt.axvline(x=spike_times[i], color='grey', linestyle='--', linewidth=0.5)\n",
    "        if i < len(delta_ts):  # Ensure there's a next spike to draw the line to\n",
    "            plt.hlines(y=y_pos, xmin=spike_times[i], xmax=spike_times[i + 1], colors='grey', linestyles='solid', lw=2)\n",
    "            plt.text((spike_times[i] + spike_times[i + 1])/2, y_pos, f'Δt={delta_ts[i]:.4f}s',\n",
    "                     horizontalalignment='center', verticalalignment='bottom', color='black')\n",
    "\n",
    "# Adding labels and title\n",
    "plt.title('Sine Wave Output Over Time with Spikes')\n",
    "plt.xlabel('Time (seconds)')\n",
    "plt.ylabel('Amplitude')\n",
    "plt.legend()\n",
    "plt.grid(True)\n",
    "\n",
    "# Show the plot\n",
    "plt.show()\n"
   ]
  }
 ],
 "metadata": {
  "kernelspec": {
   "display_name": "loihi",
   "language": "python",
   "name": "python3"
  },
  "language_info": {
   "codemirror_mode": {
    "name": "ipython",
    "version": 3
   },
   "file_extension": ".py",
   "mimetype": "text/x-python",
   "name": "python",
   "nbconvert_exporter": "python",
   "pygments_lexer": "ipython3",
   "version": "3.10.9"
  }
 },
 "nbformat": 4,
 "nbformat_minor": 2
}
