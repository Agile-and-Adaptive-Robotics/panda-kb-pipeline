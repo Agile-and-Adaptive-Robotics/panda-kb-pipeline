{
 "cells": [
  {
   "cell_type": "markdown",
   "metadata": {},
   "source": [
    "# Mathematical Framework of Loihi\n",
    "The purpose of this notebook is display the mathematical framework of the Loihi Chip and to simplify the parameter tuning of future compartments and networks\n",
    "\n",
    "### Neural Model \n",
    "Loihi uses the leaky-integrate-and-fire model which has two internal state variables: \n",
    "1) **$u_i(t)$: the synaptic response current**  \n",
    "$$\n",
    "u_i(t) = u_i(t - 1) \\cdot (2^{12} - \\delta_i^{(u)}) \\cdot 2^{-12} + 2^{6+wgtExp} \\sum_jw_{ij}\\cdot s_j(t)\n",
    "$$\n",
    "- $i$ indicates the index of the post-syntapic neuron (in Loihi neuron are represented as compartments)\n",
    "- $j$ indicates the index of the pre-syntapic neuron\n",
    "- $\\delta_i^(u)$ represents the current decay (Default = 4096)\n",
    "$$\n",
    "compartmentCurrentDecay = (1/\\tau)*2^{12} \n",
    "$$\n",
    "$$\n",
    "\\tau = e^{(-t/\\tau)}\n",
    "$$\n",
    "- $u_i(t)$ is the compartment's state current at timestep $t$. The compartment current integrates incoming weighted spikes from the dendritic accumulators and possibly inputs from other compartments but decays exponentially otherwise\n",
    "2) **$v_t(t)$: the membrane voltage potential**\n",
    "$$\n",
    "v_i(t) = v_i(t-1) \\cdot (2^{12} - VoltageDecay) * 2^{-12} + u_i(t) + (biasMant*2^{biasExp})\n",
    "$$\n",
    "$$\n",
    "VoltageDecay = (1/\\tau) \\cdot 2^{12}\n",
    "$$\n",
    "- the compartment voltage $(v_i(t))$ integrates the compartment current $(u_i(t))$, the compartment bias, and possibly inputs from other compartments\n",
    "- the firing rate comes from setting the voltage threshold (defalt 6400): \n",
    "$$\n",
    "vTh = vthMant * 2^6\n",
    "$$\n",
    "\n",
    "\n"
   ]
  },
  {
   "cell_type": "code",
   "execution_count": null,
   "metadata": {},
   "outputs": [],
   "source": []
  }
 ],
 "metadata": {
  "kernelspec": {
   "display_name": "loihi",
   "language": "python",
   "name": "python3"
  },
  "language_info": {
   "name": "python",
   "version": "3.7.16"
  }
 },
 "nbformat": 4,
 "nbformat_minor": 2
}
